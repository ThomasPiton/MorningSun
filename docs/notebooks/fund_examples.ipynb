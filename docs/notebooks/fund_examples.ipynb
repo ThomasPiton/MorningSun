{
 "cells": [
  {
   "cell_type": "markdown",
   "id": "0465c7f9",
   "metadata": {},
   "source": [
    "#### Fund"
   ]
  },
  {
   "cell_type": "code",
   "execution_count": null,
   "id": "76bf5b2b",
   "metadata": {
    "vscode": {
     "languageId": "plaintext"
    }
   },
   "outputs": [],
   "source": [
    "import morningstar.api.fund as fund"
   ]
  }
 ],
 "metadata": {
  "language_info": {
   "name": "python"
  }
 },
 "nbformat": 4,
 "nbformat_minor": 5
}
