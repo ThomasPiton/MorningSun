{
 "cells": [
  {
   "cell_type": "markdown",
   "id": "0f364ce4",
   "metadata": {},
   "source": [
    "#### ETF"
   ]
  },
  {
   "cell_type": "code",
   "execution_count": null,
   "id": "16263fc2",
   "metadata": {
    "vscode": {
     "languageId": "plaintext"
    }
   },
   "outputs": [],
   "source": [
    "import morningstar.api.etf as etf "
   ]
  }
 ],
 "metadata": {
  "language_info": {
   "name": "python"
  }
 },
 "nbformat": 4,
 "nbformat_minor": 5
}
