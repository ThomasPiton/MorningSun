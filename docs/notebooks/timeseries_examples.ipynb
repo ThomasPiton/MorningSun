{
 "cells": [
  {
   "cell_type": "markdown",
   "id": "79b799d3",
   "metadata": {},
   "source": [
    "#### Timeseries"
   ]
  },
  {
   "cell_type": "code",
   "execution_count": null,
   "id": "a806506c",
   "metadata": {
    "vscode": {
     "languageId": "plaintext"
    }
   },
   "outputs": [],
   "source": [
    "import morningstar.api.timeseries as timeseries"
   ]
  }
 ],
 "metadata": {
  "language_info": {
   "name": "python"
  }
 },
 "nbformat": 4,
 "nbformat_minor": 5
}
