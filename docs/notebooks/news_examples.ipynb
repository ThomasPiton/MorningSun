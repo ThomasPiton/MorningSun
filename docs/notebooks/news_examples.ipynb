{
 "cells": [
  {
   "cell_type": "markdown",
   "id": "d9d13198",
   "metadata": {},
   "source": [
    "#### News"
   ]
  },
  {
   "cell_type": "code",
   "execution_count": null,
   "id": "b6ff2ff6",
   "metadata": {
    "vscode": {
     "languageId": "plaintext"
    }
   },
   "outputs": [],
   "source": [
    "import morningstar.api.news as news"
   ]
  }
 ],
 "metadata": {
  "language_info": {
   "name": "python"
  }
 },
 "nbformat": 4,
 "nbformat_minor": 5
}
